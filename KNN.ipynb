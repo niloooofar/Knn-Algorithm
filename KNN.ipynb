{
 "cells": [
  {
   "cell_type": "markdown",
   "id": "dangerous-housing",
   "metadata": {},
   "source": [
    "# K-Nearest Neighbors"
   ]
  },
  {
   "cell_type": "markdown",
   "id": "resident-destiny",
   "metadata": {},
   "source": [
    "## K_Nearest Neighbors Classifier"
   ]
  },
  {
   "cell_type": "markdown",
   "id": "deluxe-venture",
   "metadata": {},
   "source": [
    "We want to predict whether a movie's IMDb rating is above or below 7.0. We will do this with K_Nearest Neighbor Classifier. <br/>\n",
    "We will implement the three steps of the K-Nearest Neighbor Algorithm:\n",
    "\n",
    "1.    Normalize the data\n",
    "2.    Find the k nearest neighbors\n",
    "3.    Classify the new point based on those neighbors"
   ]
  },
  {
   "cell_type": "markdown",
   "id": "changed-liabilities",
   "metadata": {},
   "source": [
    "### Load data"
   ]
  },
  {
   "cell_type": "code",
   "execution_count": 1,
   "id": "honest-blood",
   "metadata": {},
   "outputs": [],
   "source": [
    "from movies import training_set, training_labels, validation_set, validation_labels, movie_dataset, movie_ratings"
   ]
  },
  {
   "cell_type": "markdown",
   "id": "wooden-grounds",
   "metadata": {},
   "source": [
    "### Data with Different Scales: Normalization"
   ]
  },
  {
   "cell_type": "code",
   "execution_count": 2,
   "id": "experimental-decline",
   "metadata": {},
   "outputs": [],
   "source": [
    "def min_max_normalize(lst):\n",
    "  minimum = min(lst)\n",
    "  maximum = max(lst)\n",
    "  normalized=[]\n",
    "  for element in lst:\n",
    "    value = (element - minimum)/(maximum - minimum)\n",
    "    normalized.append(value)\n",
    "  return normalized"
   ]
  },
  {
   "cell_type": "markdown",
   "id": "baking-wholesale",
   "metadata": {},
   "source": [
    "### Distance Between Points\n",
    "We need to define what it means for two points to be close together or far apart."
   ]
  },
  {
   "cell_type": "code",
   "execution_count": 3,
   "id": "unlikely-demand",
   "metadata": {},
   "outputs": [],
   "source": [
    "def distance(movie1, movie2):\n",
    "  squared_difference = 0\n",
    "  for i in range(len(movie1)):\n",
    "    squared_difference += (movie1[i] - movie2[i]) ** 2\n",
    "  final_distance = squared_difference ** 0.5\n",
    "  return final_distance"
   ]
  },
  {
   "cell_type": "markdown",
   "id": "theoretical-legislature",
   "metadata": {},
   "source": [
    "### Classify an Unknown Point Based on its K-Nearest Neighbors"
   ]
  },
  {
   "cell_type": "code",
   "execution_count": 4,
   "id": "cubic-begin",
   "metadata": {},
   "outputs": [],
   "source": [
    "def classify(unknown, dataset, labels, k):\n",
    "  distances = []\n",
    "  #Looping through all points in the dataset\n",
    "  for title in dataset:\n",
    "    movie = dataset[title]\n",
    "    distance_to_point = distance(movie, unknown)\n",
    "    distances.append([distance_to_point, title])\n",
    "  distances.sort()\n",
    "  #Taking only the k closest points\n",
    "  neighbors = distances[0:k]\n",
    "  num_good = 0\n",
    "  num_bad = 0\n",
    "  for neighbor in neighbors:\n",
    "    title = neighbor[1]\n",
    "    if labels[title] == 0:\n",
    "      num_bad += 1\n",
    "    elif labels[title] == 1:\n",
    "      num_good += 1\n",
    "  if num_good > num_bad:\n",
    "    return 1\n",
    "  else:\n",
    "    return 0"
   ]
  },
  {
   "cell_type": "markdown",
   "id": "brown-breast",
   "metadata": {},
   "source": [
    "To begin, we want to make sure the movie that we want to classify isn’t already in our database. This is important because we don’t want one of the nearest neighbors to be itself! Then we compare our classifier for `Bee Movie` and its actual label."
   ]
  },
  {
   "cell_type": "code",
   "execution_count": 5,
   "id": "marked-plasma",
   "metadata": {},
   "outputs": [
    {
     "name": "stdout",
     "output_type": "stream",
     "text": [
      "False\n"
     ]
    }
   ],
   "source": [
    "print(\"Bee Movie\" in training_set)"
   ]
  },
  {
   "cell_type": "code",
   "execution_count": 6,
   "id": "ecological-magnet",
   "metadata": {},
   "outputs": [
    {
     "name": "stdout",
     "output_type": "stream",
     "text": [
      "movies feature: [0.012279463360232739, 0.18430034129692832, 0.898876404494382]\n",
      "actual label: 0\n",
      "our classifier prediction: 0\n",
      "Our predition is correct!\n"
     ]
    }
   ],
   "source": [
    "print(\"movies feature:\", validation_set[\"Bee Movie\"])\n",
    "print(\"actual label:\", validation_labels[\"Bee Movie\"])\n",
    "\n",
    "guess=classify(validation_set[\"Bee Movie\"], training_set, training_labels, 5)\n",
    "print(\"our classifier prediction:\",guess)\n",
    "if guess == validation_labels[\"Bee Movie\"]:\n",
    "  print(\"Our predition is correct!\")\n",
    "else:\n",
    "  print(\"Our predition is wrong!\")"
   ]
  },
  {
   "cell_type": "markdown",
   "id": "passing-teaching",
   "metadata": {},
   "source": [
    "### find_validation_accuracy"
   ]
  },
  {
   "cell_type": "code",
   "execution_count": 7,
   "id": "minute-helena",
   "metadata": {},
   "outputs": [],
   "source": [
    "def find_validation_accuracy(training_set, training_labels, validation_set, validation_labels, k):\n",
    "  num_correct = 0.0\n",
    "  for title in validation_set:\n",
    "    guess = classify(validation_set[title], training_set, training_labels, k)\n",
    "    if guess == validation_labels[title]:\n",
    "      num_correct += 1\n",
    "  return num_correct / len(validation_set)"
   ]
  },
  {
   "cell_type": "markdown",
   "id": "canadian-engineer",
   "metadata": {},
   "source": [
    "accuracy of our model with k = 3"
   ]
  },
  {
   "cell_type": "code",
   "execution_count": 8,
   "id": "living-fundamentals",
   "metadata": {
    "scrolled": true
   },
   "outputs": [
    {
     "name": "stdout",
     "output_type": "stream",
     "text": [
      "0.6639344262295082\n"
     ]
    }
   ],
   "source": [
    "print(find_validation_accuracy(training_set, training_labels, validation_set, validation_labels, 3))"
   ]
  },
  {
   "cell_type": "markdown",
   "id": "micro-aluminum",
   "metadata": {},
   "source": [
    "### Finding the best K"
   ]
  },
  {
   "cell_type": "markdown",
   "id": "adult-uruguay",
   "metadata": {},
   "source": [
    "Validation accuracy will change depending on what K we use. In the next exercise, we’ll use the validation accuracy to pick the best possible K for our classifier."
   ]
  },
  {
   "cell_type": "code",
   "execution_count": 9,
   "id": "minus-brand",
   "metadata": {},
   "outputs": [],
   "source": [
    "accuracies = []\n",
    "for k in range(10,45):\n",
    " accuracies.append(find_validation_accuracy(training_set,\n",
    "                                            training_labels,\n",
    "                                            validation_set,\n",
    "                                            validation_labels,\n",
    "                                            k))"
   ]
  },
  {
   "cell_type": "code",
   "execution_count": 10,
   "id": "paperback-transformation",
   "metadata": {
    "scrolled": true
   },
   "outputs": [
    {
     "data": {
      "image/png": "[encoded data removed]",
      "text/plain": [
       "<Figure size 432x288 with 1 Axes>"
      ]
     },
     "metadata": {
      "needs_background": "light"
     },
     "output_type": "display_data"
    }
   ],
   "source": [
    "from matplotlib import pyplot as plt\n",
    "\n",
    "k_list = range(10,45)\n",
    "plt.plot(k_list ,accuracies)\n",
    "plt.xlabel('k')\n",
    "plt.ylabel('Validation Accuracy')\n",
    "plt.title('Movie Classifier Accuracy')\n",
    "plt.show()"
   ]
  },
  {
   "cell_type": "code",
   "execution_count": 11,
   "id": "framed-shame",
   "metadata": {},
   "outputs": [
    {
     "name": "stdout",
     "output_type": "stream",
     "text": [
      "0.7021857923497268\n"
     ]
    }
   ],
   "source": [
    "best_k = 23\n",
    "print(find_validation_accuracy(training_set, training_labels, validation_set, validation_labels, best_k))"
   ]
  },
  {
   "cell_type": "markdown",
   "id": "superb-airport",
   "metadata": {},
   "source": [
    "### Graphing the results with Sklearn"
   ]
  },
  {
   "cell_type": "code",
   "execution_count": 12,
   "id": "stable-digest",
   "metadata": {
    "scrolled": true
   },
   "outputs": [
    {
     "data": {
      "image/png": "[encoded data removed]",
      "text/plain": [
       "<Figure size 432x288 with 1 Axes>"
      ]
     },
     "metadata": {
      "needs_background": "light"
     },
     "output_type": "display_data"
    }
   ],
   "source": [
    "from sklearn.neighbors import KNeighborsClassifier\n",
    "from matplotlib import pyplot as plt\n",
    "\n",
    "\n",
    "accuracies = []\n",
    "for k in range(1,100):\n",
    "    classifier = KNeighborsClassifier(n_neighbors = k)\n",
    "    classifier.fit(list(training_set.values()), list(training_labels.values()))\n",
    "    accuracies.append( classifier.score(\n",
    "        list(validation_set.values()), list(validation_labels.values())\n",
    "    ))\n",
    "    \n",
    "\n",
    "k_list = range(1,100)\n",
    "plt.plot(k_list, accuracies)\n",
    "plt.xlabel('k')\n",
    "plt.ylabel('Validation Accuracy')\n",
    "plt.title('Movie Classifier Accuracy')\n",
    "plt.show()"
   ]
  },
  {
   "cell_type": "markdown",
   "id": "oriented-carol",
   "metadata": {},
   "source": [
    "## K_Nearest Neighbors Regressor"
   ]
  },
  {
   "cell_type": "markdown",
   "id": "competent-education",
   "metadata": {},
   "source": [
    "Instead of classifying a new movie as either good or bad, we are now going to predict its IMDb rating. The variable neighbors stores a list  of `[distance, title]` pairs. Instead of counting the number of good and bad neighbors, we calculate averages of the neighbor's IMDb ratings."
   ]
  },
  {
   "cell_type": "code",
   "execution_count": 13,
   "id": "jewish-tactics",
   "metadata": {},
   "outputs": [],
   "source": [
    "def predict(unknown, dataset, movie_ratings, k):\n",
    "  distances = []\n",
    "  #Looping through all points in the dataset\n",
    "  for title in dataset:\n",
    "    movie = dataset[title]\n",
    "    distance_to_point = distance(movie, unknown)\n",
    "    #Adding the distance and point associated with that distance\n",
    "    distances.append([distance_to_point, title])\n",
    "  distances.sort()\n",
    "  #Taking only the k closest points\n",
    "  neighbors = distances[0:k]\n",
    "\n",
    "  total = 0\n",
    "  for neighbor in neighbors:\n",
    "    title = neighbor[1]\n",
    "    total += movie_ratings[title]\n",
    "  return total/k"
   ]
  },
  {
   "cell_type": "markdown",
   "id": "coral-lewis",
   "metadata": {},
   "source": [
    "We have the normalized budget, runtime, and year of the movie as [0.016, 0.300, 1.022]. So we can perdict its rating."
   ]
  },
  {
   "cell_type": "code",
   "execution_count": 14,
   "id": "recognized-battery",
   "metadata": {},
   "outputs": [
    {
     "name": "stdout",
     "output_type": "stream",
     "text": [
      "6.859999999999999\n"
     ]
    }
   ],
   "source": [
    "print(predict([0.016, 0.300, 1.022], movie_dataset,movie_ratings, 5 ))"
   ]
  },
  {
   "cell_type": "markdown",
   "id": "sacred-carroll",
   "metadata": {},
   "source": [
    "### Weighted Regression"
   ]
  },
  {
   "cell_type": "markdown",
   "id": "attached-boutique",
   "metadata": {},
   "source": [
    " We can compute a weighted average based on how close each neighbor is. Now we redo our predict() function so it computes the weighted average. "
   ]
  },
  {
   "cell_type": "code",
   "execution_count": 15,
   "id": "experimental-peripheral",
   "metadata": {},
   "outputs": [],
   "source": [
    "def predict(unknown, dataset, movie_ratings, k):\n",
    "  distances = []\n",
    "  #Looping through all points in the dataset\n",
    "  for title in dataset:\n",
    "    movie = dataset[title]\n",
    "    distance_to_point = distance(movie, unknown)\n",
    "    #Adding the distance and point associated with that distance\n",
    "    distances.append([distance_to_point, title])\n",
    "  distances.sort()\n",
    "  #Taking only the k closest points\n",
    "  neighbors = distances[0:k]\n",
    "  numerator = 0\n",
    "  denominator = 0\n",
    "  for neighbor in neighbors:\n",
    "    rating = movie_ratings[neighbor[1]]\n",
    "    distance_to_neighbor = neighbor[0]\n",
    "    numerator += rating / distance_to_neighbor\n",
    "    denominator += 1 / distance_to_neighbor\n",
    "  return numerator / denominator"
   ]
  },
  {
   "cell_type": "code",
   "execution_count": 16,
   "id": "ideal-sperm",
   "metadata": {
    "scrolled": true
   },
   "outputs": [
    {
     "name": "stdout",
     "output_type": "stream",
     "text": [
      "6.849139678439045\n"
     ]
    }
   ],
   "source": [
    "print(predict([0.016, 0.300, 1.022], movie_dataset, movie_ratings, 5))"
   ]
  },
  {
   "cell_type": "markdown",
   "id": "available-twelve",
   "metadata": {},
   "source": [
    "### KNeighborsRegressor in Sklearn"
   ]
  },
  {
   "cell_type": "markdown",
   "id": "suspended-traveler",
   "metadata": {},
   "source": [
    "These three lists are the features for the normalized budget, runtime, and year of release for three movies we want\n",
    "to perdict rating for them."
   ]
  },
  {
   "cell_type": "code",
   "execution_count": 17,
   "id": "advised-light",
   "metadata": {},
   "outputs": [
    {
     "name": "stdout",
     "output_type": "stream",
     "text": [
      "[6.84913968 5.47572913 6.91067999]\n"
     ]
    }
   ],
   "source": [
    "from sklearn.neighbors import KNeighborsRegressor\n",
    "\n",
    "regressor = KNeighborsRegressor(n_neighbors = 5, weights = 'distance')\n",
    "\n",
    "regressor.fit(list(movie_dataset.values()), list(movie_ratings.values()))\n",
    "\n",
    "unknown_point = [\n",
    "  [0.016, 0.300, 1.022] ,\n",
    "  [0.0004092981, 0.283, 1.0112] ,\n",
    "  [0.00687649, 0.235, 1.0112]\n",
    "  ]\n",
    "\n",
    "gusses = regressor.predict(unknown_point)\n",
    "\n",
    "print(gusses)"
   ]
  }
 ],
 "metadata": {
  "kernelspec": {
   "display_name": "Python 3",
   "language": "python",
   "name": "python3"
  },
  "language_info": {
   "codemirror_mode": {
    "name": "ipython",
    "version": 3
   },
   "file_extension": ".py",
   "mimetype": "text/x-python",
   "name": "python",
   "nbconvert_exporter": "python",
   "pygments_lexer": "ipython3",
   "version": "3.9.1"
  }
 },
 "nbformat": 4,
 "nbformat_minor": 5
}
